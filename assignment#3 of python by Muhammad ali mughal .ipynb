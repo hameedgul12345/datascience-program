{
 "cells": [
  {
   "cell_type": "code",
   "execution_count": 3,
   "id": "130c3003",
   "metadata": {},
   "outputs": [
    {
     "name": "stdout",
     "output_type": "stream",
     "text": [
      "enter the number45\n",
      "you enter odd number\n"
     ]
    }
   ],
   "source": [
    "#  1:Write a program which take input from user and identify that the given number is even or odd\n",
    "\n",
    "x=int(input(\"enter the number\"));#we took number from the user convert into integer then assign to x variable\n",
    "\n",
    "if(x%2==0):#we use simple conditional statement\n",
    "    \n",
    "    print(\"You enter even number\");#ue print method for displaying output\n",
    "    \n",
    "else:\n",
    "    print(\"You enter odd number\");#ue print method for displaying output"
   ]
  },
  {
   "cell_type": "code",
   "execution_count": 4,
   "id": "ff9a18fe",
   "metadata": {},
   "outputs": [
    {
     "name": "stdout",
     "output_type": "stream",
     "text": [
      "enter number78\n",
      "enter number89\n",
      "enter number90\n",
      "enter number78\n",
      "enter number67\n",
      "Grade C\n"
     ]
    }
   ],
   "source": [
    "#2: Write a program which takes 5 inputs from user for different subject’s marks, total itand generate mark sheet using grades ?\n",
    "\"\"\"we took marks of different from the user convert\n",
    "into integer then assign to  variables\"\"\"\n",
    "\n",
    "English=int(input(\"enter number\"));\n",
    "Islamiyat=int(input(\"enter number\"));\n",
    "Maths=int(input(\"enter number\"));\n",
    "Urdo=int(input(\"enter number\"));\n",
    "physics=int(input(\"enter number\"));\n",
    "\n",
    "total=500;\n",
    "percent=(English+Islamiyat+Maths+Urdo+physics)/total*100;#formula that calculate the percentage \n",
    "\n",
    "if percent <100 and percent>80:#Here we had use conditional statement \n",
    "    print(\"grade A+\");\n",
    "elif percent< 80 and percent >70:\n",
    "    print(\"Grade A\");\n",
    "elif percent< 70 and percent >60:\n",
    "    print(\"Grade B\");\n",
    "elif percent< 60 and percent >50:\n",
    "    print(\"Grade C\");\n",
    "elif percent< 50 and percent >40:\n",
    "    print(\"Grade D\");\n",
    "elif percent< 40 and percent >33:\n",
    "    print(\"Grade E\"); \n",
    "elif  percent <33:\n",
    "    print(\"Fail\"); \n",
    "else :\n",
    "    print(\"Invalid\"); \n",
    "    "
   ]
  },
  {
   "cell_type": "code",
   "execution_count": 7,
   "id": "10ba0cd8",
   "metadata": {},
   "outputs": [
    {
     "name": "stdout",
     "output_type": "stream",
     "text": [
      "Enter  first number23\n",
      "Enter  second number454\n",
      "477\n"
     ]
    }
   ],
   "source": [
    "#3: Write a python program which takes two inputs from user and print them addition\n",
    "x=int(input(\"Enter  first number\"));#took input from the user convert into intger and store in variable  x\n",
    "y=int(input(\"Enter  second number\"));#took input from the user convert into intger and store in variable  y\n",
    "z=x+y;#add x and y and assign out put to variable z\n",
    "print(z);#print th value of z\n"
   ]
  },
  {
   "cell_type": "code",
   "execution_count": 14,
   "id": "a49ac902",
   "metadata": {},
   "outputs": [
    {
     "data": {
      "text/plain": [
       "False"
      ]
     },
     "execution_count": 14,
     "metadata": {},
     "output_type": "execute_result"
    }
   ],
   "source": [
    "import sys\n",
    "sys.version_info\n",
    "sys.version_info<(3,8)\n"
   ]
  },
  {
   "cell_type": "code",
   "execution_count": 1,
   "id": "5865f2b8",
   "metadata": {},
   "outputs": [
    {
     "name": "stdout",
     "output_type": "stream",
     "text": [
      "Enter radius of circle: 56\n",
      "Area of the circle is: 9847.04\n"
     ]
    }
   ],
   "source": [
    "#:5:Write a Python program which accepts the radius of a circle from the user and compute\n",
    "#the area.\n",
    "radius=float(input(\"Enter radius of circle: \"));#took input from the user\n",
    "area=3.14*radius**2;#calculate the radius of circle\n",
    "print(\"Area of the circle is:\",area);#print  the area of circle"
   ]
  },
  {
   "cell_type": "code",
   "execution_count": 1,
   "id": "2546b8a3",
   "metadata": {},
   "outputs": [
    {
     "name": "stdout",
     "output_type": "stream",
     "text": [
      "Enter first Name:khan\n",
      "Enter first Name:khan\n",
      "nahk   nahk\n"
     ]
    }
   ],
   "source": [
    "#:6:Write a Python program which accepts the user's first and last name and print them in\n",
    "#reverse order with a space between them.\n",
    "\n",
    "FName=(input(\"Enter first Name:\"));#took user  first name from\n",
    "LName=(input(\"Enter first Name:\"));#took user  first name from\n",
    "\n",
    "\n",
    "print(FName[len(FName)-1::-1],\" \",LName[len(LName)-1::-1]);#use function len()-1::-1 to revrse the string\n"
   ]
  },
  {
   "cell_type": "markdown",
   "id": "8bcbb900",
   "metadata": {},
   "source": [
    "###### "
   ]
  },
  {
   "cell_type": "code",
   "execution_count": 2,
   "id": "9c99b84e",
   "metadata": {},
   "outputs": [
    {
     "name": "stdout",
     "output_type": "stream",
     "text": [
      "6\n"
     ]
    }
   ],
   "source": [
    "#7: Write a program which print the length of the list?\n",
    "\n",
    "list=[\"ali\",34,45,67,6.7,\"ahmad\"]#here we have list we use len(list) function to print number of element in the list\n",
    "print(len(list));"
   ]
  },
  {
   "cell_type": "code",
   "execution_count": null,
   "id": "f199ceb1",
   "metadata": {},
   "outputs": [],
   "source": []
  },
  {
   "cell_type": "code",
   "execution_count": 3,
   "id": "a54a39cb",
   "metadata": {},
   "outputs": [
    {
     "name": "stdout",
     "output_type": "stream",
     "text": [
      "Twinkle, twinkle, little star,\n",
      "\tHow I wonder what you are!\n",
      "\t\tUp above the world so high,\n",
      "\t\tLike a diamond in the sky.\n",
      "Twinkle, twinkle, little star,\n",
      "\tHow I wonder what you are\n"
     ]
    }
   ],
   "source": [
    "\"\"\"8:\n",
    "Write a Python program to print the following string in a specific format (see the\n",
    "output).\n",
    "\n",
    "Twinkle, twinkle, little star,\n",
    "How I wonder what you are!\n",
    "Up above the world so high,\n",
    "Like a diamond in the sky.\n",
    "\n",
    "Twinkle, twinkle, little star,\n",
    "How I wonder what you are\n",
    "\"\"\"\n",
    "print(\"Twinkle, twinkle, little star,\")\n",
    "print(\"\\tHow I wonder what you are!\")#we use \\t which move text four space\n",
    "print(\"\\t\\tUp above the world so high,\")#we use \\t \\t which move text eight space\n",
    "print(\"\\t\\tLike a diamond in the sky.\")#we use \\t which move text four space\n",
    "\n",
    "print(\"Twinkle, twinkle, little star,\")\n",
    "print(\"\\tHow I wonder what you are\")#we use \\t which move text four space\n"
   ]
  },
  {
   "cell_type": "code",
   "execution_count": 5,
   "id": "16a03b21",
   "metadata": {},
   "outputs": [
    {
     "name": "stdout",
     "output_type": "stream",
     "text": [
      "89\n"
     ]
    }
   ],
   "source": [
    "#9.Write a Python program to sum all the numeric items in a list?\n",
    "list1=[4,56,7,8,1,3,4,6]\n",
    "total=sum(list1)# we use sum(list) function which sum all the element in the list \n",
    "print(total)\n",
    "\n",
    "\n",
    "\n",
    "\n"
   ]
  },
  {
   "cell_type": "code",
   "execution_count": 6,
   "id": "e5434896",
   "metadata": {},
   "outputs": [
    {
     "name": "stdout",
     "output_type": "stream",
     "text": [
      "56\n"
     ]
    }
   ],
   "source": [
    "#10.Write a Python program to get the largest number from a numeric list.\n",
    "list1=[4,56,7,8,1,3,4,6]\n",
    "print(max(list1))# we use max(list) function which find  largest  element in the list "
   ]
  },
  {
   "cell_type": "code",
   "execution_count": 7,
   "id": "c542bf08",
   "metadata": {},
   "outputs": [
    {
     "name": "stdout",
     "output_type": "stream",
     "text": [
      "1\n",
      "1\n",
      "2\n",
      "3\n"
     ]
    }
   ],
   "source": [
    "#11 we use sum(list) function which sum all the element in the list \n",
    "a = [1, 1, 2, 3, 5, 8, 13, 21, 34, 55, 89]\n",
    "for i in a:\n",
    "    if i<5:\n",
    "        print(i)"
   ]
  },
  {
   "cell_type": "code",
   "execution_count": 17,
   "id": "91938fb0",
   "metadata": {},
   "outputs": [
    {
     "ename": "NameError",
     "evalue": "name 'date' is not defined",
     "output_type": "error",
     "traceback": [
      "\u001b[1;31m---------------------------------------------------------------------------\u001b[0m",
      "\u001b[1;31mNameError\u001b[0m                                 Traceback (most recent call last)",
      "\u001b[1;32m<ipython-input-17-c39103287c04>\u001b[0m in \u001b[0;36m<module>\u001b[1;34m\u001b[0m\n\u001b[1;32m----> 1\u001b[1;33m \u001b[0mtoday\u001b[0m\u001b[1;33m=\u001b[0m \u001b[0mdate\u001b[0m\u001b[1;33m.\u001b[0m\u001b[0mtoday\u001b[0m\u001b[1;33m(\u001b[0m\u001b[1;33m)\u001b[0m\u001b[1;33m\u001b[0m\u001b[1;33m\u001b[0m\u001b[0m\n\u001b[0m\u001b[0;32m      2\u001b[0m \u001b[1;31m#d1=today.strftime(\"%d%m%Y\")\u001b[0m\u001b[1;33m\u001b[0m\u001b[1;33m\u001b[0m\u001b[1;33m\u001b[0m\u001b[0m\n\u001b[0;32m      3\u001b[0m \u001b[0mprint\u001b[0m\u001b[1;33m(\u001b[0m\u001b[0mtoday\u001b[0m\u001b[1;33m)\u001b[0m\u001b[1;33m\u001b[0m\u001b[1;33m\u001b[0m\u001b[0m\n",
      "\u001b[1;31mNameError\u001b[0m: name 'date' is not defined"
     ]
    }
   ],
   "source": [
    "today= date.today()\n",
    "#d1=today.strftime(\"%d%m%Y\")\n",
    "print(today)"
   ]
  },
  {
   "cell_type": "code",
   "execution_count": null,
   "id": "cdf74303",
   "metadata": {},
   "outputs": [],
   "source": []
  },
  {
   "cell_type": "code",
   "execution_count": null,
   "id": "a9ea00c5",
   "metadata": {},
   "outputs": [],
   "source": []
  },
  {
   "cell_type": "code",
   "execution_count": null,
   "id": "0a99c99f",
   "metadata": {},
   "outputs": [],
   "source": []
  }
 ],
 "metadata": {
  "kernelspec": {
   "display_name": "Python 3",
   "language": "python",
   "name": "python3"
  },
  "language_info": {
   "codemirror_mode": {
    "name": "ipython",
    "version": 3
   },
   "file_extension": ".py",
   "mimetype": "text/x-python",
   "name": "python",
   "nbconvert_exporter": "python",
   "pygments_lexer": "ipython3",
   "version": "3.8.8"
  }
 },
 "nbformat": 4,
 "nbformat_minor": 5
}
